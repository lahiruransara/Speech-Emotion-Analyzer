{
 "cells": [
  {
   "cell_type": "code",
   "execution_count": 27,
   "metadata": {},
   "outputs": [],
   "source": [
    "import librosa\n",
    "import librosa.display\n",
    "import numpy as np\n",
    "import matplotlib.pyplot as plt\n",
    "import tensorflow as tf\n",
    "from matplotlib.pyplot import specgram\n",
    "import keras\n",
    "from keras.preprocessing import sequence\n",
    "from keras.models import Sequential\n",
    "from keras.layers import Dense, Embedding\n",
    "from keras.layers import LSTM\n",
    "from keras.preprocessing.text import Tokenizer\n",
    "from keras.preprocessing.sequence import pad_sequences\n",
    "from keras.utils import to_categorical\n",
    "from keras.layers import Input, Flatten, Dropout, Activation\n",
    "from keras.layers import Conv1D, MaxPooling1D, AveragePooling1D\n",
    "from keras.models import Model\n",
    "from keras.callbacks import ModelCheckpoint\n",
    "from sklearn.metrics import confusion_matrix"
   ]
  },
  {
   "cell_type": "code",
   "execution_count": 38,
   "metadata": {},
   "outputs": [],
   "source": [
    "from keras import regularizers\n",
    "from sklearn.preprocessing import LabelEncoder\n",
    "import pandas as pd"
   ]
  },
  {
   "cell_type": "code",
   "execution_count": 39,
   "metadata": {},
   "outputs": [],
   "source": [
    "import os"
   ]
  },
  {
   "cell_type": "code",
   "execution_count": 40,
   "metadata": {},
   "outputs": [],
   "source": [
    "pred_to_class = {\n",
    "    0: \"female_angry\",\n",
    "    1: \"female_calm\",\n",
    "    2: \"female_fearful\",\n",
    "    3: \"female_happy\",\n",
    "    4: \"female_sad\",\n",
    "    5: \"male_angry\",\n",
    "    6: \"male_calm\",\n",
    "    7: \"male_fearful\",\n",
    "    8: \"male_happy\",\n",
    "    9: \"male_sad\"\n",
    "}"
   ]
  },
  {
   "cell_type": "code",
   "execution_count": 41,
   "metadata": {},
   "outputs": [],
   "source": [
    "def predict():\n",
    "    lb = LabelEncoder()\n",
    "    Model_filename = 'saved_models/Emotion_Voice_Detection_Model.h5'\n",
    "    # Model = load_model(Model_filename)\n",
    "    \n",
    "    from keras.models import model_from_json\n",
    "\n",
    "    json_file = open('model.json', 'r')\n",
    "    loaded_model_json = json_file.read()\n",
    "    json_file.close()\n",
    "    loaded_model = model_from_json(loaded_model_json)\n",
    "    loaded_model.load_weights(\"saved_models/Emotion_Voice_Detection_Model.h5\")\n",
    "    print(\"Loaded model from disk\")\n",
    "    \n",
    "    X, sample_rate = librosa.load('output10.wav', res_type='kaiser_fast', duration=2.5, sr=22050*2, offset=0.5)\n",
    "    sample_rate = np.array(sample_rate)\n",
    "    mfccs = np.mean(librosa.feature.mfcc(y=X, sr=sample_rate, n_mfcc=13),axis=0)\n",
    "    featurelive = mfccs\n",
    "    livedf2 = featurelive\n",
    "    livedf2= pd.DataFrame(data=livedf2)\n",
    "    livedf2 = livedf2.stack().to_frame().T\n",
    "    twodim= np.expand_dims(livedf2, axis=2)\n",
    "    \n",
    "    preds = loaded_model.predict(twodim, batch_size=32, verbose=1)\n",
    "    preds1 = preds.argmax(axis=1)\n",
    "    abc = preds1.astype(int).flatten()\n",
    "        \n",
    "    print(pred_to_class[abc.item()])\n",
    "    "
   ]
  },
  {
   "cell_type": "code",
   "execution_count": 42,
   "metadata": {},
   "outputs": [
    {
     "name": "stdout",
     "output_type": "stream",
     "text": [
      "Loaded model from disk\n",
      "1/1 [==============================] - 0s 62ms/step\n",
      "male_angry\n"
     ]
    }
   ],
   "source": [
    "predict()"
   ]
  },
  {
   "cell_type": "code",
   "execution_count": null,
   "metadata": {},
   "outputs": [],
   "source": []
  }
 ],
 "metadata": {
  "kernelspec": {
   "display_name": "Python 3",
   "language": "python",
   "name": "python3"
  },
  "language_info": {
   "codemirror_mode": {
    "name": "ipython",
    "version": 3
   },
   "file_extension": ".py",
   "mimetype": "text/x-python",
   "name": "python",
   "nbconvert_exporter": "python",
   "pygments_lexer": "ipython3",
   "version": "3.7.5"
  }
 },
 "nbformat": 4,
 "nbformat_minor": 2
}
